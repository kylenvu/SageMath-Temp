{
  "nbformat": 4,
  "nbformat_minor": 0,
  "metadata": {
    "colab": {
      "name": "Analysis of the Winston Game.ipynb",
      "provenance": []
    },
    "kernelspec": {
      "name": "python3",
      "display_name": "Python 3"
    },
    "language_info": {
      "name": "python"
    }
  },
  "cells": [
    {
      "cell_type": "markdown",
      "source": [
        "# Analysis of the Winston Game\n"
      ],
      "metadata": {
        "id": "AvewFniOLhFm"
      }
    },
    {
      "cell_type": "code",
      "execution_count": null,
      "metadata": {
        "id": "Y0CoX9sWLfkC"
      },
      "outputs": [],
      "source": [
        "import numpy as np\n",
        "import matplotlib.pyplot as plt\n",
        "import matplotlib as mpl\n",
        "from mpl_toolkits import mplot3d"
      ]
    },
    {
      "cell_type": "markdown",
      "source": [
        "# Calculating Cost and Production Across Levels\n",
        "\n",
        "## Power\n",
        "For the power, we have\n",
        "\n",
        "$$\\begin{align*}\n",
        "L_p &:= \\text{Power Level} \\\\\n",
        "P &:= \\text{Initial click power} \\\\\n",
        "G_P &:= \\text{Power per level} \\\\\n",
        "C_P &:= \\text{Initial Power cost} \\\\\n",
        "R_P &:= \\text{Power cost growth rate}\n",
        "\\end{align*}$$\n",
        "\n",
        "The new clicker power, $P^*$ (in units of money per clicks) is given by\n",
        "$$ P^* = P + G_P \\cdot (L_P - 1). $$\n",
        "\n",
        "The cost for each new power upgrade, $C_P^*$, at level $L_P$ is given by\n",
        "$$C_P^* = C_P \\cdot (R_P)^{L_P-1}$$\n",
        "\n",
        "## Multipliers\n",
        "For the multipliers, we have\n",
        "$$\\begin{align*}\n",
        "L_M &:= \\text{Multiplier Level} \\\\\n",
        "M &:= \\text{Initial power multiplier} \\\\\n",
        "G_M &:= \\text{Multiplier per level} \\\\\n",
        "C_M &:= \\text{Initial Multiplier cost} \\\\\n",
        "R_M &:= \\text{Multiplier cost growth rate}\n",
        "\\end{align*}$$\n",
        "\n",
        "The new multiplier is given by\n",
        "$$M^* = M + G_M\\cdot (L_m - 1).$$\n",
        "\n",
        "The cost for each new multiplier upgrade, $C_M^*$, at level $L_M$ is given by\n",
        "$$C_M^* = C_M \\cdot (R_M)^{L_M-1}.$$\n",
        "\n",
        "## Total Production and Cost\n",
        "\n",
        "The total production per click as a function of power and multiplier level is given by \n",
        "$$\\Pi(L_P,L_M) = P^*\\cdot M^* = (P+G_P\\cdot (L_P - 1))(M+G_M\\cdot (L_M - 1)).$$\n",
        "\n",
        "The total cost as a function of power and multiplier level is given by \n",
        "$$ C(L_P,L_M) = C_P^* + C_M^* = (C_P\\cdot (R_P)^{L_P-1})+(C_M \\cdot (R_M)^{L_M-1}). $$"
      ],
      "metadata": {
        "id": "1UKrXBmKUEXP"
      }
    },
    {
      "cell_type": "code",
      "source": [
        "#@markdown # Graphing Production against Cost\n",
        "\n",
        "%%HTML\n",
        "<iframe src=\"https://www.geogebra.org/classic/s2nzfzj6?embed\" width=\"1200\" height=\"800\" allowfullscreen style=\"border: 1px solid #e4e4e4;border-radius: 4px;\" frameborder=\"0\"></iframe>"
      ],
      "metadata": {
        "colab": {
          "base_uri": "https://localhost:8080/",
          "height": 823
        },
        "cellView": "form",
        "id": "txGfEjEK5-A4",
        "outputId": "b6ed9bf2-52fa-4708-aa29-b7f7c807084e"
      },
      "execution_count": null,
      "outputs": [
        {
          "output_type": "display_data",
          "data": {
            "text/plain": [
              "<IPython.core.display.HTML object>"
            ],
            "text/html": [
              "<iframe src=\"https://www.geogebra.org/classic/s2nzfzj6?embed\" width=\"1200\" height=\"800\" allowfullscreen style=\"border: 1px solid #e4e4e4;border-radius: 4px;\" frameborder=\"0\"></iframe>"
            ]
          },
          "metadata": {}
        }
      ]
    },
    {
      "cell_type": "code",
      "source": [
        "power_level = 1 #@param {type:\"number\"}\n",
        "power_initial = 1 #@param {type:\"number\"}\n",
        "power_per_level = 1 #@param {type:\"number\"}\n",
        "power_cost = 10 #@param {type:\"number\"}\n",
        "power_cost_growth_rate = 1.15 #@param {type:\"number\"}\n",
        "\n",
        "\n",
        "multiplier_level = 1 #@param {type:\"number\"}\n",
        "multiplier_initial = 1 #@param {type:\"number\"}\n",
        "multiplier_per_level = 0.3 #@param{type:\"number\"}\n",
        "multiplier_cost = 10 #@param{type:\"number\"}\n",
        "multiplier_cost_growth_rate = 1.15 #@param {type:\"number\"}\n",
        "\n",
        "\n",
        "\n",
        "def multiplier_current(multiplier_level, multiplier_initial, multiplier_per_level):\n",
        "  return multiplier_initial + multiplier_per_level * (multiplier_level - 1)\n",
        "\n",
        "\n",
        "def multiplier_cost_fun(multiplier_level, multiplier_cost, multiplier_cost_growth_rate):\n",
        "  return multiplier_cost * multiplier_cost_growth_rate ** (multiplier_level - 1)\n",
        "\n",
        "\n",
        "def power_current(power_level, power_initial, power_per_level):\n",
        "  return power_initial + power_per_level * (power_level - 1)\n",
        "\n",
        "\n",
        "def power_cost_fun(power_level, power_cost, power_cost_growth_rate):\n",
        "  return power_cost * power_cost_growth_rate ** (power_level - 1)\n",
        "\n",
        "\n",
        "def production_fun(power_level, power_initial, power_per_level, multiplier_level, multiplier_initial, multiplier_per_level):\n",
        "  return power_current(power_level, power_initial, power_per_level) * multiplier_current(multiplier_level, multiplier_initial, multiplier_per_level)\n",
        "\n",
        "\n",
        "def cost_fun(power_level, power_cost, power_cost_growth_rate, multiplier_level, multiplier_cost, multiplier_cost_growth_rate):\n",
        "  return power_cost_fun(power_level, power_cost, power_cost_growth_rate) + multiplier_cost_fun(multiplier_level, multiplier_cost, multiplier_cost_growth_rate)\n"
      ],
      "metadata": {
        "id": "tQ7KxflHMO1d"
      },
      "execution_count": null,
      "outputs": []
    },
    {
      "cell_type": "code",
      "source": [
        "# Graphing surface plots.  Embedded GeoGebra is better.\n",
        "\n",
        "# Making a progression of levels for power and multiplier\n",
        "# power_level = np.linspace(1, 20, 20)\n",
        "# multiplier_level = np.linspace(1, 20, 20)\n",
        "\n",
        "# Creating a meshgrid out of the power and multiplier levels\n",
        "# X_pow_level, Y_mult_level = np.meshgrid(power_level, multiplier_level)\n",
        "\n",
        "# Creating the Z axis points for production with the last number being the clicks per second\n",
        "# Z_production = production_fun(X_pow_level, power_initial, power_per_level, Y_mult_level, multiplier_initial, multiplier_per_level)\n",
        "# Z_production2 = production_fun(X_pow_level, power_initial, power_per_level, Y_mult_level, multiplier_initial, multiplier_per_level) * 2\n",
        "# Z_production3 = production_fun(X_pow_level, power_initial, power_per_level, Y_mult_level, multiplier_initial, multiplier_per_level) * 3\n",
        "# Z_production4 = production_fun(X_pow_level, power_initial, power_per_level, Y_mult_level, multiplier_initial, multiplier_per_level) * 4\n",
        "# Z_production5 = production_fun(X_pow_level, power_initial, power_per_level, Y_mult_level, multiplier_initial, multiplier_per_level) * 7\n",
        "\n",
        "# Z axis points for cost\n",
        "# Z_cost = cost_fun(X_pow_level, power_cost, power_cost_growth_rate, Y_mult_level, multiplier_cost, multiplier_cost_growth_rate)\n",
        "\n",
        "# fig = plt.figure(figsize=(4,3), dpi=300)\n",
        "# ax = plt.axes(projection = \"3d\")\n",
        "# ax.contour3D(X_pow_level, Y_mult_level, Z_production, 100, cmap=\"autumn\")\n",
        "# ax.contour3D(X_pow_level, Y_mult_level, Z_cost, 100, cmap=\"bone\")\n",
        "\n",
        "# Change Z_production number to see production surfaces for different values of clicks per second\n",
        "# surf_prod = ax.plot_surface(X_pow_level, Y_mult_level, Z_production5, rstride=1, cstride=1, cmap=\"viridis\", edgecolor=\"none\", label=\"Production\")\n",
        "# surf_cost = ax.plot_surface(X_pow_level, Y_mult_level, Z_cost, rstride=1, cstride=1, cmap=\"autumn\", edgecolor=\"none\", label=\"Cost\")\n",
        "\n",
        "\n",
        "# ax.tick_params(axis=\"both\", which=\"major\", labelsize=4)\n",
        "# ax.tick_params(axis=\"both\", which=\"minor\", labelsize=6)\n",
        "\n",
        "# ax.dist = 15\n",
        "\n",
        "# ax.view_init(10, -60)\n",
        "\n",
        "# ax.set_xlabel(\"Power Level\")\n",
        "# ax.set_ylabel(\"Multiplier Level\")\n",
        "# ax.set_zlabel(\"Money\")\n",
        "\n",
        "# Legend on plot\n",
        "# surf_prod._edgecolors2d = surf_prod._edgecolor3d\n",
        "# surf_prod._facecolors2d = surf_prod._facecolor3d\n",
        "\n",
        "# surf_cost._edgecolors2d = surf_cost._edgecolor3d\n",
        "# surf_cost._facecolors2d = surf_cost._facecolor3d\n",
        "\n",
        "# ax.legend()"
      ],
      "metadata": {
        "id": "FXkHjqaj9Bzj"
      },
      "execution_count": null,
      "outputs": []
    }
  ]
}